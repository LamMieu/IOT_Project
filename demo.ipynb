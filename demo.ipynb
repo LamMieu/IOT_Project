{
 "cells": [
  {
   "cell_type": "code",
   "execution_count": 22,
   "id": "4e00fb01",
   "metadata": {},
   "outputs": [],
   "source": [
    "import pandas as pd\n",
    "import numpy as np\n",
    "from sklearn.preprocessing import StandardScaler, LabelEncoder\n",
    "import joblib"
   ]
  },
  {
   "cell_type": "code",
   "execution_count": 23,
   "id": "7dc4d2f5",
   "metadata": {},
   "outputs": [],
   "source": [
    "data = pd.read_csv(\"./data/dataset/data_subset.csv\")"
   ]
  },
  {
   "cell_type": "code",
   "execution_count": 24,
   "id": "3e1869ca",
   "metadata": {
    "scrolled": true
   },
   "outputs": [
    {
     "data": {
      "text/plain": [
       "Index(['flow_duration', 'Header_Length', 'Protocol Type', 'Duration', 'Rate',\n",
       "       'Srate', 'Drate', 'fin_flag_number', 'syn_flag_number',\n",
       "       'rst_flag_number', 'psh_flag_number', 'ack_flag_number',\n",
       "       'ece_flag_number', 'cwr_flag_number', 'ack_count', 'syn_count',\n",
       "       'fin_count', 'urg_count', 'rst_count', 'HTTP', 'HTTPS', 'DNS', 'Telnet',\n",
       "       'SMTP', 'SSH', 'IRC', 'TCP', 'UDP', 'DHCP', 'ARP', 'ICMP', 'IPv', 'LLC',\n",
       "       'Tot sum', 'Min', 'Max', 'AVG', 'Std', 'Tot size', 'IAT', 'Number',\n",
       "       'Magnitue', 'Radius', 'Covariance', 'Variance', 'Weight', 'label'],\n",
       "      dtype='object')"
      ]
     },
     "execution_count": 24,
     "metadata": {},
     "output_type": "execute_result"
    }
   ],
   "source": [
    "data.columns"
   ]
  },
  {
   "cell_type": "code",
   "execution_count": 25,
   "id": "eb9618da",
   "metadata": {
    "scrolled": true
   },
   "outputs": [
    {
     "data": {
      "text/plain": [
       "label\n",
       "DDoS-ICMP_Flood            3639\n",
       "DDoS-UDP_Flood             2733\n",
       "DDoS-TCP_Flood             2242\n",
       "DDoS-PSHACK_Flood          2051\n",
       "DDoS-RSTFINFlood           2036\n",
       "DDoS-SYN_Flood             2034\n",
       "DDoS-SynonymousIP_Flood    1781\n",
       "DoS-UDP_Flood              1665\n",
       "DoS-TCP_Flood              1364\n",
       "DoS-SYN_Flood              1016\n",
       "BenignTraffic               548\n",
       "Mirai-greeth_flood          515\n",
       "Mirai-udpplain              462\n",
       "Mirai-greip_flood           370\n",
       "DDoS-ICMP_Fragmentation     227\n",
       "MITM-ArpSpoofing            153\n",
       "DDoS-ACK_Fragmentation      150\n",
       "DDoS-UDP_Fragmentation      134\n",
       "DNS_Spoofing                 90\n",
       "Recon-HostDiscovery          64\n",
       "Recon-OSScan                 48\n",
       "Recon-PortScan               41\n",
       "DoS-HTTP_Flood               40\n",
       "VulnerabilityScan            21\n",
       "DDoS-HTTP_Flood              14\n",
       "DDoS-SlowLoris               12\n",
       "DictionaryBruteForce          8\n",
       "SqlInjection                  3\n",
       "Backdoor_Malware              3\n",
       "CommandInjection              3\n",
       "XSS                           2\n",
       "BrowserHijacking              2\n",
       "Uploading_Attack              1\n",
       "Recon-PingSweep               1\n",
       "Name: count, dtype: int64"
      ]
     },
     "execution_count": 25,
     "metadata": {},
     "output_type": "execute_result"
    }
   ],
   "source": [
    "data[\"label\"].value_counts()"
   ]
  },
  {
   "cell_type": "code",
   "execution_count": 26,
   "id": "6f321dd5",
   "metadata": {},
   "outputs": [],
   "source": [
    "x_columns = ['flow_duration', 'Header_Length', 'Protocol Type', 'Duration', 'Rate',\n",
    "       'Srate', 'Drate', 'fin_flag_number', 'syn_flag_number',\n",
    "       'rst_flag_number', 'psh_flag_number', 'ack_flag_number',\n",
    "       'ece_flag_number', 'cwr_flag_number', 'ack_count', 'syn_count',\n",
    "       'fin_count', 'urg_count', 'rst_count', 'HTTP', 'HTTPS', 'DNS', 'Telnet',\n",
    "       'SMTP', 'SSH', 'IRC', 'TCP', 'UDP', 'DHCP', 'ARP', 'ICMP', 'IPv', 'LLC',\n",
    "       'Tot sum', 'Min', 'Max', 'AVG', 'Std', 'Tot size', 'IAT', 'Number',\n",
    "       'Magnitue', 'Radius', 'Covariance', 'Variance', 'Weight']\n",
    "y_column = 'label'"
   ]
  },
  {
   "cell_type": "code",
   "execution_count": 27,
   "id": "6547e41c",
   "metadata": {},
   "outputs": [],
   "source": [
    "multi_data=data.copy()\n",
    "multi_label = pd.DataFrame(multi_data[y_column])\n",
    "scaler = StandardScaler()\n",
    "lbEncoder = LabelEncoder()\n",
    "sacled_X_train = scaler.fit_transform(multi_data[x_columns])\n",
    "multi_label['label'] = lbEncoder.fit_transform(multi_label['label'])"
   ]
  },
  {
   "cell_type": "code",
   "execution_count": 28,
   "id": "ad03fa52",
   "metadata": {},
   "outputs": [
    {
     "data": {
      "text/plain": [
       "['label_encoder.joblib']"
      ]
     },
     "execution_count": 28,
     "metadata": {},
     "output_type": "execute_result"
    }
   ],
   "source": [
    "joblib.dump(scaler, 'scaler_model.joblib')\n",
    "joblib.dump(lbEncoder, 'label_encoder.joblib')"
   ]
  },
  {
   "cell_type": "code",
   "execution_count": 29,
   "id": "0aab760d",
   "metadata": {
    "scrolled": true
   },
   "outputs": [
    {
     "data": {
      "text/html": [
       "<div>\n",
       "<style scoped>\n",
       "    .dataframe tbody tr th:only-of-type {\n",
       "        vertical-align: middle;\n",
       "    }\n",
       "\n",
       "    .dataframe tbody tr th {\n",
       "        vertical-align: top;\n",
       "    }\n",
       "\n",
       "    .dataframe thead th {\n",
       "        text-align: right;\n",
       "    }\n",
       "</style>\n",
       "<table border=\"1\" class=\"dataframe\">\n",
       "  <thead>\n",
       "    <tr style=\"text-align: right;\">\n",
       "      <th></th>\n",
       "      <th>flow_duration</th>\n",
       "      <th>Header_Length</th>\n",
       "      <th>Protocol Type</th>\n",
       "      <th>Duration</th>\n",
       "      <th>Rate</th>\n",
       "      <th>Srate</th>\n",
       "      <th>Drate</th>\n",
       "      <th>fin_flag_number</th>\n",
       "      <th>syn_flag_number</th>\n",
       "      <th>rst_flag_number</th>\n",
       "      <th>...</th>\n",
       "      <th>AVG</th>\n",
       "      <th>Std</th>\n",
       "      <th>Tot size</th>\n",
       "      <th>IAT</th>\n",
       "      <th>Number</th>\n",
       "      <th>Magnitue</th>\n",
       "      <th>Radius</th>\n",
       "      <th>Covariance</th>\n",
       "      <th>Variance</th>\n",
       "      <th>Weight</th>\n",
       "    </tr>\n",
       "  </thead>\n",
       "  <tbody>\n",
       "    <tr>\n",
       "      <th>0</th>\n",
       "      <td>0.316426</td>\n",
       "      <td>34396.32</td>\n",
       "      <td>16.89</td>\n",
       "      <td>64.0</td>\n",
       "      <td>4323.450092</td>\n",
       "      <td>4323.450092</td>\n",
       "      <td>0.0</td>\n",
       "      <td>0.0</td>\n",
       "      <td>0.0</td>\n",
       "      <td>0.0</td>\n",
       "      <td>...</td>\n",
       "      <td>50.242305</td>\n",
       "      <td>0.728411</td>\n",
       "      <td>50.16</td>\n",
       "      <td>8.310193e+07</td>\n",
       "      <td>9.5</td>\n",
       "      <td>10.024056</td>\n",
       "      <td>1.03134</td>\n",
       "      <td>3.441192</td>\n",
       "      <td>0.16</td>\n",
       "      <td>141.55</td>\n",
       "    </tr>\n",
       "    <tr>\n",
       "      <th>1</th>\n",
       "      <td>0.000000</td>\n",
       "      <td>0.00</td>\n",
       "      <td>47.00</td>\n",
       "      <td>64.0</td>\n",
       "      <td>0.000000</td>\n",
       "      <td>0.000000</td>\n",
       "      <td>0.0</td>\n",
       "      <td>0.0</td>\n",
       "      <td>0.0</td>\n",
       "      <td>0.0</td>\n",
       "      <td>...</td>\n",
       "      <td>578.000000</td>\n",
       "      <td>0.000000</td>\n",
       "      <td>578.00</td>\n",
       "      <td>1.003817e+08</td>\n",
       "      <td>9.5</td>\n",
       "      <td>34.000000</td>\n",
       "      <td>0.00000</td>\n",
       "      <td>0.000000</td>\n",
       "      <td>0.00</td>\n",
       "      <td>141.55</td>\n",
       "    </tr>\n",
       "    <tr>\n",
       "      <th>2</th>\n",
       "      <td>0.051115</td>\n",
       "      <td>24225.00</td>\n",
       "      <td>17.00</td>\n",
       "      <td>64.0</td>\n",
       "      <td>9472.857613</td>\n",
       "      <td>9472.857613</td>\n",
       "      <td>0.0</td>\n",
       "      <td>0.0</td>\n",
       "      <td>0.0</td>\n",
       "      <td>0.0</td>\n",
       "      <td>...</td>\n",
       "      <td>50.000000</td>\n",
       "      <td>0.000000</td>\n",
       "      <td>50.00</td>\n",
       "      <td>8.301192e+07</td>\n",
       "      <td>9.5</td>\n",
       "      <td>10.000000</td>\n",
       "      <td>0.00000</td>\n",
       "      <td>0.000000</td>\n",
       "      <td>0.00</td>\n",
       "      <td>141.55</td>\n",
       "    </tr>\n",
       "    <tr>\n",
       "      <th>3</th>\n",
       "      <td>0.000000</td>\n",
       "      <td>54.00</td>\n",
       "      <td>6.00</td>\n",
       "      <td>64.0</td>\n",
       "      <td>2.841060</td>\n",
       "      <td>2.841060</td>\n",
       "      <td>0.0</td>\n",
       "      <td>0.0</td>\n",
       "      <td>0.0</td>\n",
       "      <td>0.0</td>\n",
       "      <td>...</td>\n",
       "      <td>54.000000</td>\n",
       "      <td>0.000000</td>\n",
       "      <td>54.00</td>\n",
       "      <td>8.303398e+07</td>\n",
       "      <td>9.5</td>\n",
       "      <td>10.392305</td>\n",
       "      <td>0.00000</td>\n",
       "      <td>0.000000</td>\n",
       "      <td>0.00</td>\n",
       "      <td>141.55</td>\n",
       "    </tr>\n",
       "    <tr>\n",
       "      <th>4</th>\n",
       "      <td>0.023288</td>\n",
       "      <td>9515.00</td>\n",
       "      <td>17.00</td>\n",
       "      <td>64.0</td>\n",
       "      <td>10209.955749</td>\n",
       "      <td>10209.955749</td>\n",
       "      <td>0.0</td>\n",
       "      <td>0.0</td>\n",
       "      <td>0.0</td>\n",
       "      <td>0.0</td>\n",
       "      <td>...</td>\n",
       "      <td>50.000000</td>\n",
       "      <td>0.000000</td>\n",
       "      <td>50.00</td>\n",
       "      <td>8.310282e+07</td>\n",
       "      <td>9.5</td>\n",
       "      <td>10.000000</td>\n",
       "      <td>0.00000</td>\n",
       "      <td>0.000000</td>\n",
       "      <td>0.00</td>\n",
       "      <td>141.55</td>\n",
       "    </tr>\n",
       "  </tbody>\n",
       "</table>\n",
       "<p>5 rows × 46 columns</p>\n",
       "</div>"
      ],
      "text/plain": [
       "   flow_duration  Header_Length  Protocol Type  Duration          Rate  \\\n",
       "0       0.316426       34396.32          16.89      64.0   4323.450092   \n",
       "1       0.000000           0.00          47.00      64.0      0.000000   \n",
       "2       0.051115       24225.00          17.00      64.0   9472.857613   \n",
       "3       0.000000          54.00           6.00      64.0      2.841060   \n",
       "4       0.023288        9515.00          17.00      64.0  10209.955749   \n",
       "\n",
       "          Srate  Drate  fin_flag_number  syn_flag_number  rst_flag_number  \\\n",
       "0   4323.450092    0.0              0.0              0.0              0.0   \n",
       "1      0.000000    0.0              0.0              0.0              0.0   \n",
       "2   9472.857613    0.0              0.0              0.0              0.0   \n",
       "3      2.841060    0.0              0.0              0.0              0.0   \n",
       "4  10209.955749    0.0              0.0              0.0              0.0   \n",
       "\n",
       "   ...         AVG       Std  Tot size           IAT  Number   Magnitue  \\\n",
       "0  ...   50.242305  0.728411     50.16  8.310193e+07     9.5  10.024056   \n",
       "1  ...  578.000000  0.000000    578.00  1.003817e+08     9.5  34.000000   \n",
       "2  ...   50.000000  0.000000     50.00  8.301192e+07     9.5  10.000000   \n",
       "3  ...   54.000000  0.000000     54.00  8.303398e+07     9.5  10.392305   \n",
       "4  ...   50.000000  0.000000     50.00  8.310282e+07     9.5  10.000000   \n",
       "\n",
       "    Radius  Covariance  Variance  Weight  \n",
       "0  1.03134    3.441192      0.16  141.55  \n",
       "1  0.00000    0.000000      0.00  141.55  \n",
       "2  0.00000    0.000000      0.00  141.55  \n",
       "3  0.00000    0.000000      0.00  141.55  \n",
       "4  0.00000    0.000000      0.00  141.55  \n",
       "\n",
       "[5 rows x 46 columns]"
      ]
     },
     "execution_count": 29,
     "metadata": {},
     "output_type": "execute_result"
    }
   ],
   "source": [
    "multi_data[x_columns].head()"
   ]
  },
  {
   "cell_type": "code",
   "execution_count": 30,
   "id": "6de3f1aa",
   "metadata": {
    "scrolled": true
   },
   "outputs": [
    {
     "data": {
      "text/plain": [
       "(23473, 46)"
      ]
     },
     "execution_count": 30,
     "metadata": {},
     "output_type": "execute_result"
    }
   ],
   "source": [
    "multi_data[x_columns].shape"
   ]
  },
  {
   "cell_type": "code",
   "execution_count": 31,
   "id": "70d9cc95",
   "metadata": {},
   "outputs": [
    {
     "data": {
      "text/plain": [
       "label\n",
       "6     3639\n",
       "14    2733\n",
       "13    2242\n",
       "8     2051\n",
       "9     2036\n",
       "10    2034\n",
       "12    1781\n",
       "21    1665\n",
       "20    1364\n",
       "19    1016\n",
       "1      548\n",
       "23     515\n",
       "25     462\n",
       "24     370\n",
       "7      227\n",
       "22     153\n",
       "4      150\n",
       "15     134\n",
       "16      90\n",
       "26      64\n",
       "27      48\n",
       "29      41\n",
       "18      40\n",
       "32      21\n",
       "5       14\n",
       "11      12\n",
       "17       8\n",
       "30       3\n",
       "0        3\n",
       "3        3\n",
       "33       2\n",
       "2        2\n",
       "31       1\n",
       "28       1\n",
       "Name: count, dtype: int64"
      ]
     },
     "execution_count": 31,
     "metadata": {},
     "output_type": "execute_result"
    }
   ],
   "source": [
    "multi_label[\"label\"].value_counts()"
   ]
  },
  {
   "cell_type": "code",
   "execution_count": 32,
   "id": "724fa937",
   "metadata": {},
   "outputs": [],
   "source": [
    "from tensorflow.keras.models import Sequential\n",
    "from tensorflow.keras.layers import Conv1D, MaxPooling1D, Flatten, Dense, Dropout, BatchNormalization\n",
    "from sklearn.model_selection import train_test_split\n",
    "from tensorflow.keras.callbacks import EarlyStopping\n",
    "import pickle\n",
    "\n",
    "x_train, x_test, y_train, y_test = train_test_split(sacled_X_train, multi_label, test_size=0.2, random_state=42)\n",
    "\n",
    "model = Sequential()\n",
    "\n",
    "model.add(Conv1D(32, 3, padding=\"same\", input_shape=(x_train.shape[1],1), activation='relu'))\n",
    "model.add(MaxPooling1D(pool_size=(2)))\n",
    "model.add(Dropout(0.2))\n",
    "\n",
    "model.add(Conv1D(32, 3, padding=\"same\", activation='relu'))\n",
    "model.add(MaxPooling1D(pool_size=(2)))\n",
    "\n",
    "model.add(Flatten())\n",
    "\n",
    "model.add(Dense(128, activation='relu'))\n",
    "model.add(Dense(34, activation='softmax'))\n"
   ]
  },
  {
   "cell_type": "code",
   "execution_count": 33,
   "id": "7702fae6",
   "metadata": {
    "scrolled": true
   },
   "outputs": [
    {
     "name": "stdout",
     "output_type": "stream",
     "text": [
      "Model: \"sequential_1\"\n",
      "_________________________________________________________________\n",
      " Layer (type)                Output Shape              Param #   \n",
      "=================================================================\n",
      " conv1d_2 (Conv1D)           (None, 46, 32)            128       \n",
      "                                                                 \n",
      " max_pooling1d_2 (MaxPoolin  (None, 23, 32)            0         \n",
      " g1D)                                                            \n",
      "                                                                 \n",
      " dropout_2 (Dropout)         (None, 23, 32)            0         \n",
      "                                                                 \n",
      " conv1d_3 (Conv1D)           (None, 23, 32)            3104      \n",
      "                                                                 \n",
      " max_pooling1d_3 (MaxPoolin  (None, 11, 32)            0         \n",
      " g1D)                                                            \n",
      "                                                                 \n",
      " flatten_1 (Flatten)         (None, 352)               0         \n",
      "                                                                 \n",
      " dense_2 (Dense)             (None, 128)               45184     \n",
      "                                                                 \n",
      " dense_3 (Dense)             (None, 34)                4386      \n",
      "                                                                 \n",
      "=================================================================\n",
      "Total params: 52802 (206.26 KB)\n",
      "Trainable params: 52802 (206.26 KB)\n",
      "Non-trainable params: 0 (0.00 Byte)\n",
      "_________________________________________________________________\n"
     ]
    }
   ],
   "source": [
    "model.summary()"
   ]
  },
  {
   "cell_type": "code",
   "execution_count": 34,
   "id": "6902b610",
   "metadata": {},
   "outputs": [],
   "source": [
    "model.compile(optimizer='adam',loss='sparse_categorical_crossentropy', metrics=['accuracy'])"
   ]
  },
  {
   "cell_type": "code",
   "execution_count": 35,
   "id": "dac7e4fa",
   "metadata": {},
   "outputs": [],
   "source": [
    "early_stopping = EarlyStopping(monitor='val_loss', patience=10)"
   ]
  },
  {
   "cell_type": "code",
   "execution_count": 36,
   "id": "11f6849e",
   "metadata": {},
   "outputs": [
    {
     "name": "stdout",
     "output_type": "stream",
     "text": [
      "Epoch 1/30\n",
      "470/470 [==============================] - 3s 5ms/step - loss: 0.8486 - accuracy: 0.7233 - val_loss: 0.5703 - val_accuracy: 0.7710\n",
      "Epoch 2/30\n",
      "470/470 [==============================] - 2s 4ms/step - loss: 0.5396 - accuracy: 0.7741 - val_loss: 0.5483 - val_accuracy: 0.7838\n",
      "Epoch 3/30\n",
      "470/470 [==============================] - 2s 4ms/step - loss: 0.4998 - accuracy: 0.7775 - val_loss: 0.5321 - val_accuracy: 0.7375\n",
      "Epoch 4/30\n",
      "470/470 [==============================] - 2s 4ms/step - loss: 0.4873 - accuracy: 0.7864 - val_loss: 0.5311 - val_accuracy: 0.7825\n",
      "Epoch 5/30\n",
      "470/470 [==============================] - 2s 4ms/step - loss: 0.4697 - accuracy: 0.7870 - val_loss: 0.5157 - val_accuracy: 0.7548\n",
      "Epoch 6/30\n",
      "470/470 [==============================] - 2s 4ms/step - loss: 0.4652 - accuracy: 0.7893 - val_loss: 0.5135 - val_accuracy: 0.7929\n",
      "Epoch 7/30\n",
      "470/470 [==============================] - 2s 5ms/step - loss: 0.4525 - accuracy: 0.7986 - val_loss: 0.4889 - val_accuracy: 0.8046\n",
      "Epoch 8/30\n",
      "470/470 [==============================] - 2s 4ms/step - loss: 0.4387 - accuracy: 0.8077 - val_loss: 0.4874 - val_accuracy: 0.7990\n",
      "Epoch 9/30\n",
      "470/470 [==============================] - 2s 4ms/step - loss: 0.4358 - accuracy: 0.8127 - val_loss: 0.4685 - val_accuracy: 0.8251\n",
      "Epoch 10/30\n",
      "470/470 [==============================] - 2s 4ms/step - loss: 0.4201 - accuracy: 0.8211 - val_loss: 0.4616 - val_accuracy: 0.8222\n",
      "Epoch 11/30\n",
      "470/470 [==============================] - 2s 4ms/step - loss: 0.4062 - accuracy: 0.8276 - val_loss: 0.4560 - val_accuracy: 0.8216\n",
      "Epoch 12/30\n",
      "470/470 [==============================] - 2s 4ms/step - loss: 0.3949 - accuracy: 0.8304 - val_loss: 0.4582 - val_accuracy: 0.8331\n",
      "Epoch 13/30\n",
      "470/470 [==============================] - 2s 4ms/step - loss: 0.3867 - accuracy: 0.8344 - val_loss: 0.4332 - val_accuracy: 0.8427\n",
      "Epoch 14/30\n",
      "470/470 [==============================] - 2s 4ms/step - loss: 0.3777 - accuracy: 0.8349 - val_loss: 0.4341 - val_accuracy: 0.8299\n",
      "Epoch 15/30\n",
      "470/470 [==============================] - 2s 4ms/step - loss: 0.3637 - accuracy: 0.8434 - val_loss: 0.4025 - val_accuracy: 0.8442\n",
      "Epoch 16/30\n",
      "470/470 [==============================] - 2s 4ms/step - loss: 0.3424 - accuracy: 0.8506 - val_loss: 0.3872 - val_accuracy: 0.8621\n",
      "Epoch 17/30\n",
      "470/470 [==============================] - 2s 4ms/step - loss: 0.3098 - accuracy: 0.8640 - val_loss: 0.3389 - val_accuracy: 0.8924\n",
      "Epoch 18/30\n",
      "470/470 [==============================] - 2s 4ms/step - loss: 0.2623 - accuracy: 0.8928 - val_loss: 0.2789 - val_accuracy: 0.9302\n",
      "Epoch 19/30\n",
      "470/470 [==============================] - 2s 4ms/step - loss: 0.2023 - accuracy: 0.9252 - val_loss: 0.2189 - val_accuracy: 0.9468\n",
      "Epoch 20/30\n",
      "470/470 [==============================] - 2s 4ms/step - loss: 0.1553 - accuracy: 0.9464 - val_loss: 0.1946 - val_accuracy: 0.9577\n",
      "Epoch 21/30\n",
      "470/470 [==============================] - 2s 4ms/step - loss: 0.1308 - accuracy: 0.9556 - val_loss: 0.1825 - val_accuracy: 0.9638\n",
      "Epoch 22/30\n",
      "470/470 [==============================] - 2s 4ms/step - loss: 0.1153 - accuracy: 0.9582 - val_loss: 0.1714 - val_accuracy: 0.9593\n",
      "Epoch 23/30\n",
      "470/470 [==============================] - 2s 4ms/step - loss: 0.1083 - accuracy: 0.9607 - val_loss: 0.1748 - val_accuracy: 0.9590\n",
      "Epoch 24/30\n",
      "470/470 [==============================] - 2s 4ms/step - loss: 0.1020 - accuracy: 0.9632 - val_loss: 0.1585 - val_accuracy: 0.9603\n",
      "Epoch 25/30\n",
      "470/470 [==============================] - 2s 4ms/step - loss: 0.0953 - accuracy: 0.9615 - val_loss: 0.1632 - val_accuracy: 0.9601\n",
      "Epoch 26/30\n",
      "470/470 [==============================] - 2s 4ms/step - loss: 0.0963 - accuracy: 0.9609 - val_loss: 0.1566 - val_accuracy: 0.9609\n",
      "Epoch 27/30\n",
      "470/470 [==============================] - 2s 4ms/step - loss: 0.0900 - accuracy: 0.9659 - val_loss: 0.1596 - val_accuracy: 0.9569\n",
      "Epoch 28/30\n",
      "470/470 [==============================] - 2s 4ms/step - loss: 0.0930 - accuracy: 0.9635 - val_loss: 0.1543 - val_accuracy: 0.9611\n",
      "Epoch 29/30\n",
      "470/470 [==============================] - 2s 4ms/step - loss: 0.0880 - accuracy: 0.9655 - val_loss: 0.1651 - val_accuracy: 0.9558\n",
      "Epoch 30/30\n",
      "470/470 [==============================] - 2s 4ms/step - loss: 0.0864 - accuracy: 0.9655 - val_loss: 0.1618 - val_accuracy: 0.9598\n"
     ]
    }
   ],
   "source": [
    "history = model.fit(x_train, y_train, epochs= 30, batch_size=32, validation_split=0.2, callbacks=[early_stopping])"
   ]
  },
  {
   "cell_type": "code",
   "execution_count": 37,
   "id": "3abe6032",
   "metadata": {},
   "outputs": [],
   "source": [
    "from sklearn.metrics import accuracy_score, precision_score, recall_score, f1_score"
   ]
  },
  {
   "cell_type": "code",
   "execution_count": 38,
   "id": "73592b93",
   "metadata": {},
   "outputs": [
    {
     "name": "stdout",
     "output_type": "stream",
     "text": [
      "147/147 [==============================] - 0s 2ms/step\n",
      "Classifier metrics on the test set\n",
      "Accurracy: 95.72%\n",
      "Precision: 0.9533268310041492\n",
      "Recall: 0.9571884984025559\n",
      "F1: 0.9517956219783973\n"
     ]
    },
    {
     "name": "stderr",
     "output_type": "stream",
     "text": [
      "c:\\Users\\ASUS\\anaconda3\\Lib\\site-packages\\sklearn\\metrics\\_classification.py:1344: UndefinedMetricWarning: Precision is ill-defined and being set to 0.0 in labels with no predicted samples. Use `zero_division` parameter to control this behavior.\n",
      "  _warn_prf(average, modifier, msg_start, len(result))\n",
      "c:\\Users\\ASUS\\anaconda3\\Lib\\site-packages\\sklearn\\metrics\\_classification.py:1344: UndefinedMetricWarning: Recall is ill-defined and being set to 0.0 in labels with no true samples. Use `zero_division` parameter to control this behavior.\n",
      "  _warn_prf(average, modifier, msg_start, len(result))\n"
     ]
    }
   ],
   "source": [
    "y_preds = model.predict(x_test)\n",
    "predicted_classes = y_preds.argmax(axis=1)\n",
    "print(\"Classifier metrics on the test set\")\n",
    "print(f\"Accurracy: {accuracy_score(y_test, predicted_classes)*100:.2f}%\")\n",
    "print(f\"Precision: {precision_score(y_test, predicted_classes, average='weighted')}\")\n",
    "print(f\"Recall: {recall_score(y_test, predicted_classes, average='weighted')}\")\n",
    "print(f\"F1: {f1_score(y_test, predicted_classes, average='weighted')}\")"
   ]
  },
  {
   "cell_type": "code",
   "execution_count": 39,
   "id": "300f230b",
   "metadata": {},
   "outputs": [],
   "source": [
    "import matplotlib.pyplot as plt"
   ]
  },
  {
   "cell_type": "code",
   "execution_count": 40,
   "id": "fb8cfae2",
   "metadata": {},
   "outputs": [
    {
     "data": {
      "image/png": "[encoded data removed]",
      "text/plain": [
       "<Figure size 640x480 with 1 Axes>"
      ]
     },
     "metadata": {},
     "output_type": "display_data"
    },
    {
     "data": {
      "text/plain": [
       "<Figure size 640x480 with 0 Axes>"
      ]
     },
     "metadata": {},
     "output_type": "display_data"
    }
   ],
   "source": [
    "plt.plot(history.history['accuracy'], label='train acc')\n",
    "plt.plot(history.history['val_accuracy'], label='val acc')\n",
    "plt.title('danh gia accuracy voi epoch cua dataset ')\n",
    "plt.xlabel('epoch')\n",
    "plt.ylabel('accuracy')\n",
    "plt.legend()\n",
    "plt.show()\n",
    "plt.savefig('accval_acc')"
   ]
  },
  {
   "cell_type": "code",
   "execution_count": 41,
   "id": "ae9fdcb6",
   "metadata": {},
   "outputs": [
    {
     "data": {
      "image/png": "[encoded data removed]",
      "text/plain": [
       "<Figure size 640x480 with 1 Axes>"
      ]
     },
     "metadata": {},
     "output_type": "display_data"
    },
    {
     "data": {
      "text/plain": [
       "<Figure size 640x480 with 0 Axes>"
      ]
     },
     "metadata": {},
     "output_type": "display_data"
    }
   ],
   "source": [
    "plt.plot(history.history['loss'], label='loss acc')\n",
    "plt.plot(history.history['val_loss'], label='val acc')\n",
    "plt.title('danh gia loss voi epoch cua dataset ')\n",
    "plt.xlabel('epoch')\n",
    "plt.ylabel('loss')\n",
    "plt.legend()\n",
    "plt.show()\n",
    "plt.savefig('accval_loss')"
   ]
  },
  {
   "cell_type": "code",
   "execution_count": 43,
   "id": "f561e998",
   "metadata": {},
   "outputs": [],
   "source": [
    "#model.save('modelCNN.h5')\n",
    "with open('modelCNN.pkl', 'wb') as file:\n",
    "    pickle.dump(model, file)"
   ]
  },
  {
   "cell_type": "code",
   "execution_count": null,
   "id": "443f05c2",
   "metadata": {},
   "outputs": [],
   "source": []
  }
 ],
 "metadata": {
  "kernelspec": {
   "display_name": "Python 3 (ipykernel)",
   "language": "python",
   "name": "python3"
  },
  "language_info": {
   "codemirror_mode": {
    "name": "ipython",
    "version": 3
   },
   "file_extension": ".py",
   "mimetype": "text/x-python",
   "name": "python",
   "nbconvert_exporter": "python",
   "pygments_lexer": "ipython3",
   "version": "3.11.5"
  }
 },
 "nbformat": 4,
 "nbformat_minor": 5
}
